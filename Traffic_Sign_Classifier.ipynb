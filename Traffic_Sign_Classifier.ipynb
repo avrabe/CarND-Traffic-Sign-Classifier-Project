{
 "cells": [
  {
   "cell_type": "markdown",
   "metadata": {},
   "source": [
    "# Self-Driving Car Engineer Nanodegree\n",
    "\n",
    "## Deep Learning\n",
    "\n",
    "## Project: Build a Traffic Sign Recognition Classifier\n",
    "\n",
    "In this notebook, a template is provided for you to implement your functionality in stages which is required to successfully complete this project. If additional code is required that cannot be included in the notebook, be sure that the Python code is successfully imported and included in your submission, if necessary. Sections that begin with **'Implementation'** in the header indicate where you should begin your implementation for your project. Note that some sections of implementation are optional, and will be marked with **'Optional'** in the header.\n",
    "\n",
    "In addition to implementing code, there will be questions that you must answer which relate to the project and your implementation. Each section where you will answer a question is preceded by a **'Question'** header. Carefully read each question and provide thorough answers in the following text boxes that begin with **'Answer:'**. Your project submission will be evaluated based on your answers to each of the questions and the implementation you provide.\n",
    "\n",
    ">**Note:** Code and Markdown cells can be executed using the **Shift + Enter** keyboard shortcut. In addition, Markdown cells can be edited by typically double-clicking the cell to enter edit mode."
   ]
  },
  {
   "cell_type": "code",
   "execution_count": null,
   "metadata": {
    "collapsed": false
   },
   "outputs": [],
   "source": [
    "import os\n",
    "import os.path\n",
    "import cv2\n",
    "import random\n",
    "import pickle\n",
    "import numpy as np \n",
    "from sklearn.cross_validation import train_test_split\n",
    "from sklearn.utils import shuffle\n",
    "import csv\n",
    "import matplotlib.pyplot as plt\n",
    "import tensorflow as tf\n",
    "from tensorflow.contrib.layers import flatten\n",
    "from itertools import product"
   ]
  },
  {
   "cell_type": "markdown",
   "metadata": {},
   "source": [
    "---\n",
    "## Step 0: Load The Data"
   ]
  },
  {
   "cell_type": "code",
   "execution_count": null,
   "metadata": {
    "collapsed": false
   },
   "outputs": [],
   "source": [
    "\n",
    "def get_files():\n",
    "    '''\n",
    "    Helper function to get the pickled data file paths.\n",
    "    TODO: Get a better way to the data. It might be better to \n",
    "          download an unpack the pickeled data.\n",
    "    '''\n",
    "    DATA_PATH=\"/home/carnd/data\"\n",
    "    return (os.path.join(DATA_PATH, \"train.p\"), \n",
    "            os.path.join(DATA_PATH, \"test.p\"))\n",
    "\n",
    "def get_csv_file():\n",
    "    '''\n",
    "    Helper function to get the traffic sign names CSV file.\n",
    "    '''\n",
    "    cwd = os.getcwd()\n",
    "    filename = os.path.join(cwd, \"signnames.csv\")\n",
    "    return filename\n",
    "\n",
    "def get_test_image_path():\n",
    "    cwd = os.getcwd()\n",
    "    path = os.path.join(cwd,\"test_images\")\n",
    "    return path"
   ]
  },
  {
   "cell_type": "code",
   "execution_count": null,
   "metadata": {
    "collapsed": false
   },
   "outputs": [],
   "source": [
    "'''\n",
    "Helper functions to preprocess images.\n",
    "'''\n",
    "\n",
    "def rgb2gray(func):\n",
    "    def func_wrapper(*args, **kwargs):\n",
    "        return cv2.cvtColor(func(*args, **kwargs), cv2.COLOR_RGB2GRAY)\n",
    "    return func_wrapper\n",
    "\n",
    "def gray2rgb(func):\n",
    "    def func_wrapper(*args, **kwargs):\n",
    "        return cv2.cvtColor(func(*args, **kwargs), cv2.COLOR_GRAY2RGB)\n",
    "    return func_wrapper\n",
    "\n",
    "def gray2equalizeHist(func):\n",
    "    def func_wrapper(*args, **kwargs):\n",
    "        return cv2.equalizeHist(func(*args, **kwargs))\n",
    "    return func_wrapper\n",
    "        \n",
    "def rgb2hsv(func):\n",
    "    def func_wrapper(*args, **kwargs):\n",
    "        return cv2.cvtColor(func(*args, **kwargs), cv2.COLOR_RGB2HSV)\n",
    "    return func_wrapper\n",
    "\n",
    "def hsv2rgb(func):\n",
    "    def func_wrapper(*args, **kwargs):\n",
    "        return cv2.cvtColor(func(*args, **kwargs), cv2.COLOR_HSV2RGB)\n",
    "    return func_wrapper\n",
    "\n",
    "def hsv2equalizeHist(func):\n",
    "    def func_wrapper(*args, **kwargs):\n",
    "        h,s,v = cv2.split(func(*args, **kwargs))\n",
    "        v = cv2.equalizeHist(v)\n",
    "        return cv2.merge((h,s,v))\n",
    "    return func_wrapper\n",
    "\n",
    "def rgb2normalize(func):\n",
    "    def func_wrapper(*args, **kwargs):\n",
    "        r,g,b = cv2.split(func(*args, **kwargs))\n",
    "        x = r.copy()\n",
    "        r = cv2.normalize(r,x)\n",
    "        g = cv2.normalize(g,x)\n",
    "        b = cv2.normalize(b,x)        \n",
    "        return cv2.merge((r,g,b))\n",
    "    return func_wrapper    \n",
    "def no_image(image):\n",
    "    return image\n",
    "\n",
    "def rgb2randomRotate(func):\n",
    "    def func_wrapper(*args, **kwargs):\n",
    "        img = func(*args, **kwargs)\n",
    "        rotation = random.uniform(-5, 5)\n",
    "        rotation_x = random.uniform(-5,5)\n",
    "        rotation_y = random.uniform(-5,5)        \n",
    "        (rows,cols,ch) = img.shape\n",
    "        M = cv2.getRotationMatrix2D((cols/2+rotation_x,rows/2+rotation_y),rotation,1)\n",
    "        dst = cv2.warpAffine(img,M,(cols,rows))\n",
    "        return dst\n",
    "    return func_wrapper    \n",
    "def no_image(image):\n",
    "    return image\n",
    "\n",
    "def rgb2randomTranslate(func):\n",
    "    def func_wrapper(*args, **kwargs):\n",
    "        img = func(*args, **kwargs)\n",
    "        (rows,cols,ch) = img.shape\n",
    "        rotation_x = random.uniform(-5, 5)\n",
    "        rotation_y = random.uniform(-5, 5 )\n",
    "        M = np.float32([[1,0,rotation_x],[0,1,rotation_y]])\n",
    "        dst = cv2.warpAffine(img,M,(cols,rows))        \n",
    "        return dst\n",
    "    return func_wrapper    \n",
    "def no_image(image):\n",
    "    return image\n",
    "\n",
    "@rgb2randomTranslate\n",
    "def translate_image(image):\n",
    "    return image\n",
    "\n",
    "@rgb2randomRotate\n",
    "def rotate_image(image):\n",
    "    return image\n",
    "\n",
    "@rgb2normalize\n",
    "def norm_image(image):\n",
    "    return image\n",
    "\n",
    "@gray2rgb\n",
    "@gray2equalizeHist\n",
    "@rgb2gray\n",
    "def gray_image(image):\n",
    "    return image\n",
    "\n",
    "@hsv2rgb\n",
    "@hsv2equalizeHist\n",
    "@rgb2hsv\n",
    "def image2(image):\n",
    "    return image\n",
    "\n",
    "def translate_images(images):\n",
    "    X = [ translate_image(features) for features in images]\n",
    "    Y = X\n",
    "    return Y\n",
    "\n",
    "def convert_images(images):\n",
    "    X = [ no_image(features) for features in images]\n",
    "    Y = X\n",
    "    return Y\n",
    "\n",
    "def create_images(images):\n",
    "    X = [ rotate_image(features) for features in images]\n",
    "    Y = X\n",
    "    return Y"
   ]
  },
  {
   "cell_type": "markdown",
   "metadata": {},
   "source": [
    "<a id='create_additional_data'>&nbsp;</a>\n",
    "Load the test and train data and enhance the test data with further generated data.\n",
    "\n",
    "Goto [implementation](#implementation)."
   ]
  },
  {
   "cell_type": "code",
   "execution_count": null,
   "metadata": {
    "collapsed": false
   },
   "outputs": [],
   "source": [
    "# Load pickled data\n",
    "training_file, testing_file = get_files()\n",
    "\n",
    "with open(training_file, mode='rb') as f:\n",
    "    train = pickle.load(f)\n",
    "with open(testing_file, mode='rb') as f:\n",
    "    test = pickle.load(f)\n",
    "\n",
    "'''\n",
    "Create some additional data from the original test data.\n",
    "Add some rotated and translated images.\n",
    "'''\n",
    "train['original_features'] = train['features']\n",
    "train['features'] = np.concatenate((convert_images(train['features']), \n",
    "                                    create_images(train['features']),\n",
    "                                    create_images(train['features']), \n",
    "                                    create_images(train['features']),\n",
    "                                    translate_images(train['features'])\n",
    "                                   ))\n",
    "'''\n",
    "Ensure that the labels have the same size and contain the right data.\n",
    "'''\n",
    "train['labels'] = np.concatenate((train['labels'], \n",
    "                                  train['labels'],\n",
    "                                  train['labels'],\n",
    "                                  train['labels'],\n",
    "                                  train['labels']))\n",
    "test['features'] = convert_images(test['features'])\n",
    "\n",
    "X_train, X_validation, y_train, y_validation = train_test_split(train['features'], train['labels'], test_size=0.20, random_state=42)\n",
    "X_test, y_test = test['features'], test['labels']\n",
    "\n"
   ]
  },
  {
   "cell_type": "markdown",
   "metadata": {},
   "source": [
    "---\n",
    "\n",
    "## Step 1: Dataset Summary & Exploration\n",
    "\n",
    "The pickled data is a dictionary with 4 key/value pairs:\n",
    "\n",
    "- `'features'` is a 4D array containing raw pixel data of the traffic sign images, (num examples, width, height, channels).\n",
    "- `'labels'` is a 2D array containing the label/class id of the traffic sign. The file `signnames.csv` contains id -> name mappings for each id.\n",
    "- `'sizes'` is a list containing tuples, (width, height) representing the the original width and height the image.\n",
    "- `'coords'` is a list containing tuples, (x1, y1, x2, y2) representing coordinates of a bounding box around the sign in the image. **THESE COORDINATES ASSUME THE ORIGINAL IMAGE. THE PICKLED DATA CONTAINS RESIZED VERSIONS (32 by 32) OF THESE IMAGES**\n",
    "\n",
    "Complete the basic data summary below."
   ]
  },
  {
   "cell_type": "code",
   "execution_count": null,
   "metadata": {
    "collapsed": false
   },
   "outputs": [],
   "source": [
    "### Replace each question mark with the appropriate value.\n",
    "n_original_train = len(train['original_features'] )\n",
    "n_train = len(X_train)\n",
    "n_validation = len(X_validation)\n",
    "n_test = len(X_test)\n",
    "image_shape = [len(X_train[0]),len(X_train[0][0]),len(X_train[0][0][0])]\n",
    "n_classes = len(set(y_train))\n",
    "\n",
    "print(\"Number of loaded training examples =\", n_original_train)\n",
    "print(\"Number of enhanced training examples minues the extracted validation examples =\", n_train)\n",
    "print(\"Number of from training examples extracted validation examples =\", n_validation)\n",
    "print(\"Number of loaded testing examples =\", n_test)\n",
    "print(\"Image data shape =\", image_shape)\n",
    "print(\"Number of classes =\", n_classes)"
   ]
  },
  {
   "cell_type": "markdown",
   "metadata": {},
   "source": [
    "Visualize the German Traffic Signs Dataset using the pickled file(s). This is open ended, suggestions include: plotting traffic sign images, plotting the count of each sign, etc.\n",
    "\n",
    "The [Matplotlib](http://matplotlib.org/) [examples](http://matplotlib.org/examples/index.html) and [gallery](http://matplotlib.org/gallery.html) pages are a great resource for doing visualizations in Python.\n",
    "\n",
    "**NOTE:** It's recommended you start with something simple first. If you wish to do more, come back to it after you've completed the rest of the sections."
   ]
  },
  {
   "cell_type": "code",
   "execution_count": null,
   "metadata": {
    "collapsed": false
   },
   "outputs": [],
   "source": [
    "'''\n",
    "Get the traffic sign names\n",
    "'''\n",
    "with open(get_csv_file(), 'rt') as csvfile:\n",
    "    spamreader = csv.DictReader(csvfile, delimiter=',', quotechar='|')\n",
    "    signname = [ row['SignName'] for row in spamreader]"
   ]
  },
  {
   "cell_type": "code",
   "execution_count": null,
   "metadata": {
    "collapsed": false
   },
   "outputs": [],
   "source": [
    "### Data exploration visualization goes here.\n",
    "### Feel free to use as many code cells as needed.\n",
    "# Visualizations will be shown in the notebook.\n",
    "%matplotlib inline\n",
    "\n",
    "foo = np.unique(y_train,return_counts=True)\n",
    "count = foo[1]\n",
    "plt.suptitle(\"Distribution of traffic signs in train data\", fontsize=14, fontweight='bold')\n",
    "plt.pie(count, labels=signname,shadow=False,startangle=120)\n",
    "plt.axis('equal')\n",
    "\n",
    "plt.show()"
   ]
  },
  {
   "cell_type": "code",
   "execution_count": null,
   "metadata": {
    "collapsed": false
   },
   "outputs": [],
   "source": [
    "# Plot the first occurence of each sign\n",
    "for i in range(len(signname)):\n",
    "    a = np.where(y_train==i)[0][0]\n",
    "    plt.suptitle(signname[i], fontsize=14, fontweight='bold')\n",
    "    plt.imshow(X_train[a])\n",
    "    plt.show()"
   ]
  },
  {
   "cell_type": "markdown",
   "metadata": {},
   "source": [
    "----\n",
    "\n",
    "## Step 2: Design and Test a Model Architecture\n",
    "\n",
    "Design and implement a deep learning model that learns to recognize traffic signs. Train and test your model on the [German Traffic Sign Dataset](http://benchmark.ini.rub.de/?section=gtsrb&subsection=dataset).\n",
    "\n",
    "There are various aspects to consider when thinking about this problem:\n",
    "\n",
    "- Neural network architecture\n",
    "- Play around preprocessing techniques (normalization, rgb to grayscale, etc)\n",
    "- Number of examples per label (some have more than others).\n",
    "- Generate fake data.\n",
    "\n",
    "Here is an example of a [published baseline model on this problem](http://yann.lecun.com/exdb/publis/pdf/sermanet-ijcnn-11.pdf). It's not required to be familiar with the approach used in the paper but, it's good practice to try to read papers like these.\n",
    "\n",
    "**NOTE:** The LeNet-5 implementation shown in the [classroom](https://classroom.udacity.com/nanodegrees/nd013/parts/fbf77062-5703-404e-b60c-95b78b2f3f9e/modules/6df7ae49-c61c-4bb2-a23e-6527e69209ec/lessons/601ae704-1035-4287-8b11-e2c2716217ad/concepts/d4aca031-508f-4e0b-b493-e7b706120f81) at the end of the CNN lesson is a solid starting point. You'll have to change the number of classes and possibly the preprocessing, but aside from that it's plug and play!"
   ]
  },
  {
   "cell_type": "markdown",
   "metadata": {},
   "source": [
    "### Implementation\n",
    "\n",
    "Use the code cell (or multiple code cells, if necessary) to implement the first step of your project. Once you have completed your implementation and are satisfied with the results, be sure to thoroughly answer the questions that follow."
   ]
  },
  {
   "cell_type": "code",
   "execution_count": 5,
   "metadata": {
    "collapsed": true
   },
   "outputs": [],
   "source": [
    "### Preprocess the data here.\n",
    "### Feel free to use as many code cells as needed.\n",
    "pass"
   ]
  },
  {
   "cell_type": "markdown",
   "metadata": {},
   "source": [
    "### Question 1 \n",
    "\n",
    "_Describe how you preprocessed the data. Why did you choose that technique?_"
   ]
  },
  {
   "cell_type": "markdown",
   "metadata": {},
   "source": [
    "**Answer:**"
   ]
  },
  {
   "cell_type": "markdown",
   "metadata": {},
   "source": [
    "I've tried several ways to preprocess the data:\n",
    "* Convert to a grayscale image.\n",
    "* Convert to a grayscale image and equalize the histogram.\n",
    "* Convert from an RGB to a HSV (hue, saturation and value) image.\n",
    "* Equalize the histogram of each channel from an RGB image.\n",
    "* Convert to a HSV image, equalize the histogram of V and convert it back to an RGB image.\n",
    "\n",
    "Unfortunately none of these methods improved the accuracy of the validation data. Finally, I decided do not preprocess the data.\n",
    "For the sake of completeness I've left the conversion implementation in the notebook."
   ]
  },
  {
   "cell_type": "code",
   "execution_count": 6,
   "metadata": {
    "collapsed": true
   },
   "outputs": [],
   "source": [
    "### Generate data additional data (OPTIONAL!)\n",
    "### and split the data into training/validation/testing sets here.\n",
    "### Feel free to use as many code cells as needed.\n",
    "pass"
   ]
  },
  {
   "cell_type": "markdown",
   "metadata": {},
   "source": [
    "Already done in the [cell above](#create_additional_data)"
   ]
  },
  {
   "cell_type": "markdown",
   "metadata": {},
   "source": [
    "### Question 2\n",
    "\n",
    "_Describe how you set up the training, validation and testing data for your model. **Optional**: If you generated additional data, how did you generate the data? Why did you generate the data? What are the differences in the new dataset (with generated data) from the original dataset?_"
   ]
  },
  {
   "cell_type": "markdown",
   "metadata": {},
   "source": [
    "**Answer:**"
   ]
  },
  {
   "cell_type": "markdown",
   "metadata": {
    "collapsed": true
   },
   "source": [
    "### Additional data\n",
    "I created additional data using rotation and translation.\n",
    "The rotation is applied randomly with a degree of -5 to +5 degree. The center of the rotation is also randomly set -5 to +5 pixels in both directions from the center of the image.\n",
    "\n",
    "The translation (shift of the image) was applied -5 to +5 pixels in both directions.\n",
    "\n",
    "I've added more rotated images than translated images to the training set as they improved the accuracy of the validation set.\n",
    "\n",
    "The creation of the additional data was done in the [cell above](#create_additional_data)\n",
    "\n",
    "### Set up the data\n",
    "The validation data was extracted from the loaded and with additional data enhanced test data. 20% of the test data has been used for the validation data.\n",
    "\n",
    "The testing data is just the data loaded from the pickled test data."
   ]
  },
  {
   "cell_type": "code",
   "execution_count": null,
   "metadata": {
    "collapsed": true
   },
   "outputs": [],
   "source": [
    "### Define your architecture here.\n",
    "### Feel free to use as many code cells as needed.\n",
    "\n",
    "EPOCHS = 40\n",
    "BATCH_SIZE = 64"
   ]
  },
  {
   "cell_type": "code",
   "execution_count": null,
   "metadata": {
    "collapsed": false
   },
   "outputs": [],
   "source": [
    "def nprint(c):\n",
    "    \"\"\"\n",
    "    print the input tensor and return it\n",
    "    \"\"\"\n",
    "    print(c)\n",
    "    return c\n",
    "\n",
    "def LeNet_mod(x):   \n",
    "    '''\n",
    "    A modified network based on the LeNet model.\n",
    "    The input tensor x needs to have a shape of (?, 32, 32, <depth>).\n",
    "    It will return a graph representing the modified LeNet model\n",
    "    '''\n",
    "    (unknown, width, height, depth) = x.get_shape()\n",
    "\n",
    "    # Hyperparameters\n",
    "    mu = 0\n",
    "    sigma = 0.1\n",
    "    \n",
    "    weights = {\n",
    "        'wc1': tf.Variable(tf.truncated_normal([5, 5, int(depth), 6], mean=mu, stddev=sigma)), \n",
    "        'wc2': tf.Variable(tf.truncated_normal([1, 1, 6, 6], mean=mu, stddev=sigma)), \n",
    "        'wc3': tf.Variable(tf.truncated_normal([1, 1, 6, 6], mean=mu, stddev=sigma)),\n",
    "        'wc4': tf.Variable(tf.truncated_normal([5, 5, 6, 16], mean=mu, stddev=sigma)),\n",
    "        'wfc1': tf.Variable(tf.truncated_normal([400, 120], mean=mu, stddev=sigma)),\n",
    "        'wfc2': tf.Variable(tf.truncated_normal([120, 84], mean=mu, stddev=sigma)),\n",
    "        'out': tf.Variable(tf.truncated_normal([84, n_classes], mean=mu, stddev=sigma))\n",
    "    }\n",
    "\n",
    "\n",
    "    biases = {\n",
    "        'bc1': tf.Variable(tf.truncated_normal([6], mean=mu, stddev=sigma)),\n",
    "        'bc2': tf.Variable(tf.truncated_normal([6], mean=mu, stddev=sigma)),\n",
    "        'bc3': tf.Variable(tf.truncated_normal([6], mean=mu, stddev=sigma)),\n",
    "        'bc4': tf.Variable(tf.truncated_normal([16], mean=mu, stddev=sigma)),\n",
    "        'bfc1': tf.Variable(tf.truncated_normal([120], mean=mu, stddev=sigma)),\n",
    "        'bfc2': tf.Variable(tf.truncated_normal([84], mean=mu, stddev=sigma)),\n",
    "        'out': tf.Variable(tf.truncated_normal([n_classes], mean=mu, stddev=sigma))\n",
    "    }  \n",
    "    \n",
    "    ksize = [1, 2, 2 , 1]\n",
    "    strides = [1, 2, 2, 1]\n",
    "    padding = 'VALID'\n",
    "    \n",
    "    c = x\n",
    "    print(\"Layer 1\")\n",
    "    c = nprint(tf.nn.conv2d(c, weights['wc1'], strides=[1, 1, 1, 1], padding='VALID', name=\"C1.conv2d\"))\n",
    "    c = nprint(tf.nn.bias_add(c, biases['bc1'], name=\"C1.bias\"))\n",
    "    c = nprint(tf.nn.relu(c, name=\"C1.relu\"))\n",
    "    \n",
    "    print(\"Layer 2\")    \n",
    "    c = nprint(tf.nn.conv2d(c, weights['wc2'], strides=[1, 1, 1, 1], padding='VALID', name=\"C2.conv2d\"))\n",
    "    c = nprint(tf.nn.bias_add(c, biases['bc2'], name=\"C2.bias\"))\n",
    "    c = nprint(tf.nn.relu(c, name=\"C2.relu\"))\n",
    "    \n",
    "    print(\"Layer 3\")    \n",
    "    c = nprint(tf.nn.conv2d(c, weights['wc3'], strides=[1, 1, 1, 1], padding='VALID', name=\"C3.conv2d\"))\n",
    "    c = nprint(tf.nn.bias_add(c, biases['bc3'], name=\"C3.bias\"))\n",
    "    c = nprint(tf.nn.relu(c, name=\"C3.relu\"))\n",
    "    \n",
    "    print(\"Pooling 1\")    \n",
    "    c = nprint(tf.nn.max_pool(c, ksize, strides, padding, name=\"P1.max_pool\"))\n",
    "    \n",
    "    print(\"Layer 4\")    \n",
    "    c = nprint(tf.nn.conv2d(c, weights['wc4'], strides=[1, 1, 1, 1], padding='VALID', name=\"C4.conv2d\"))\n",
    "    c = nprint(tf.nn.bias_add(c, biases['bc4'], name=\"C4.bias\"))    \n",
    "    c = nprint(tf.nn.relu(c, name=\"C4.relu\"))\n",
    "    \n",
    "    print(\"Pooling 2\")     \n",
    "    c = nprint(tf.nn.max_pool(c, ksize, strides, padding, name=\"P2.max_pool\"))\n",
    "\n",
    "    print(\"Flatten\")        \n",
    "    c = nprint(flatten(c))\n",
    "\n",
    "    print(\"Dropout\")        \n",
    "    c = nprint(tf.nn.dropout(c, keep_prob, name=\"Dropout\"))\n",
    "\n",
    "    print(\"Fully Connected 1\")    \n",
    "    c = nprint(tf.add(tf.matmul(c, weights['wfc1']), biases['bfc1'], name=\"fc1.matmul\"))\n",
    "    c = nprint(tf.nn.relu(c, name=\"fc1.relu\")) \n",
    "\n",
    "    print(\"Fully Connected 2\")        \n",
    "    c = nprint(tf.add(tf.matmul(c, weights['wfc2']), biases['bfc2'], name=\"fc2.matmul\"))\n",
    "    c = nprint(tf.nn.relu(c, name=\"fc2.relu\"))\n",
    "    \n",
    "    print(\"Fully Connected 3\")    \n",
    "    logits = nprint(tf.add(tf.matmul(c, weights['out']), biases['out'], name=\"out\"))\n",
    "    return logits"
   ]
  },
  {
   "cell_type": "code",
   "execution_count": null,
   "metadata": {
    "collapsed": true
   },
   "outputs": [],
   "source": [
    "x = tf.placeholder(tf.float32, (None, image_shape[0], image_shape[1], image_shape[2]), name=\"x\")\n",
    "y = tf.placeholder(tf.int32, (None), name=\"y\")\n",
    "# on dropout\n",
    "keep_prob = tf.placeholder(tf.float32, name=\"keep_prob\")\n",
    "one_hot_y = tf.one_hot(y, n_classes)"
   ]
  },
  {
   "cell_type": "code",
   "execution_count": 3,
   "metadata": {
    "collapsed": false
   },
   "outputs": [
    {
     "ename": "NameError",
     "evalue": "name 'LeNet_mod' is not defined",
     "output_type": "error",
     "traceback": [
      "\u001b[0;31m---------------------------------------------------------------------------\u001b[0m",
      "\u001b[0;31mNameError\u001b[0m                                 Traceback (most recent call last)",
      "\u001b[0;32m<ipython-input-3-2b4ea79f080f>\u001b[0m in \u001b[0;36m<module>\u001b[0;34m()\u001b[0m\n\u001b[1;32m      1\u001b[0m \u001b[0mrate\u001b[0m \u001b[1;33m=\u001b[0m \u001b[1;36m0.0005\u001b[0m\u001b[1;33m\u001b[0m\u001b[0m\n\u001b[1;32m      2\u001b[0m \u001b[1;33m\u001b[0m\u001b[0m\n\u001b[0;32m----> 3\u001b[0;31m \u001b[0mlogits\u001b[0m \u001b[1;33m=\u001b[0m \u001b[0mLeNet_mod\u001b[0m\u001b[1;33m(\u001b[0m\u001b[0mx\u001b[0m\u001b[1;33m)\u001b[0m\u001b[1;33m\u001b[0m\u001b[0m\n\u001b[0m\u001b[1;32m      4\u001b[0m \u001b[0mcross_entropy\u001b[0m \u001b[1;33m=\u001b[0m \u001b[0mtf\u001b[0m\u001b[1;33m.\u001b[0m\u001b[0mnn\u001b[0m\u001b[1;33m.\u001b[0m\u001b[0msoftmax_cross_entropy_with_logits\u001b[0m\u001b[1;33m(\u001b[0m\u001b[0mlogits\u001b[0m\u001b[1;33m,\u001b[0m \u001b[0mone_hot_y\u001b[0m\u001b[1;33m)\u001b[0m\u001b[1;33m\u001b[0m\u001b[0m\n\u001b[1;32m      5\u001b[0m \u001b[0mloss_operation\u001b[0m \u001b[1;33m=\u001b[0m \u001b[0mtf\u001b[0m\u001b[1;33m.\u001b[0m\u001b[0mreduce_mean\u001b[0m\u001b[1;33m(\u001b[0m\u001b[0mcross_entropy\u001b[0m\u001b[1;33m)\u001b[0m\u001b[1;33m\u001b[0m\u001b[0m\n",
      "\u001b[0;31mNameError\u001b[0m: name 'LeNet_mod' is not defined"
     ]
    }
   ],
   "source": [
    "rate = 0.0005\n",
    "\n",
    "logits = LeNet_mod(x)\n",
    "cross_entropy = tf.nn.softmax_cross_entropy_with_logits(logits, one_hot_y)\n",
    "loss_operation = tf.reduce_mean(cross_entropy)\n",
    "optimizer = tf.train.AdamOptimizer(learning_rate = rate)\n",
    "training_operation = optimizer.minimize(loss_operation)"
   ]
  },
  {
   "cell_type": "code",
   "execution_count": null,
   "metadata": {
    "collapsed": false
   },
   "outputs": [],
   "source": [
    "correct_prediction = tf.equal(tf.argmax(logits, 1), tf.argmax(one_hot_y, 1))\n",
    "accuracy_operation = tf.reduce_mean(tf.cast(correct_prediction, tf.float32))\n",
    "\n",
    "def evaluate(X_data, y_data):\n",
    "    num_examples = len(X_data)\n",
    "    total_accuracy = 0\n",
    "    sess = tf.get_default_session()\n",
    "    for offset in range(0, num_examples, BATCH_SIZE):\n",
    "        batch_x, batch_y = X_data[offset:offset+BATCH_SIZE], y_data[offset:offset+BATCH_SIZE]\n",
    "        accuracy = sess.run(accuracy_operation, feed_dict={x: batch_x, y: batch_y, keep_prob: 1.0})\n",
    "        total_accuracy += (accuracy * len(batch_x))\n",
    "    return total_accuracy / num_examples"
   ]
  },
  {
   "cell_type": "code",
   "execution_count": null,
   "metadata": {
    "collapsed": false
   },
   "outputs": [],
   "source": [
    "with tf.Session() as sess:\n",
    "    sess.run(tf.global_variables_initializer())\n",
    "    num_examples = len(X_train)\n",
    "    \n",
    "    print(\"Training...\")\n",
    "    print()\n",
    "    for i in range(EPOCHS):\n",
    "        X_train, y_train = shuffle(X_train, y_train)\n",
    "        for offset in range(0, num_examples, BATCH_SIZE):\n",
    "            end = offset + BATCH_SIZE\n",
    "            batch_x, batch_y = X_train[offset:end], y_train[offset:end]\n",
    "            sess.run(training_operation, feed_dict={x: batch_x, y: batch_y, keep_prob: 0.5})\n",
    "            \n",
    "        validation_accuracy = evaluate(X_validation, y_validation)\n",
    "        print(\"EPOCH {} ... Validation Accuracy = {:.3f}\".format(i+1,validation_accuracy))\n",
    "        \n",
    "    try:\n",
    "        saver\n",
    "    except NameError:\n",
    "        saver = tf.train.Saver()\n",
    "    saver.save(sess,'/home/carnd/lenet')\n",
    "    print(\"Model saved\")"
   ]
  },
  {
   "cell_type": "markdown",
   "metadata": {},
   "source": [
    "### Question 3\n",
    "\n",
    "_What does your final architecture look like? (Type of model, layers, sizes, connectivity, etc.)  For reference on how to build a deep neural network using TensorFlow, see [Deep Neural Network in TensorFlow\n",
    "](https://classroom.udacity.com/nanodegrees/nd013/parts/fbf77062-5703-404e-b60c-95b78b2f3f9e/modules/6df7ae49-c61c-4bb2-a23e-6527e69209ec/lessons/b516a270-8600-4f93-a0a3-20dfeabe5da6/concepts/83a3a2a2-a9bd-4b7b-95b0-eb924ab14432) from the classroom._\n"
   ]
  },
  {
   "cell_type": "markdown",
   "metadata": {},
   "source": [
    "**Answer:**"
   ]
  },
  {
   "cell_type": "markdown",
   "metadata": {},
   "source": [
    "![network model](network.svg)"
   ]
  },
  {
   "cell_type": "markdown",
   "metadata": {},
   "source": [
    "The network architecture is based on LeNet. In addition I took some inspiration from [VGGNet](https://arxiv.org/pdf/1409.1556.pdf) and added a dropout layer.\n",
    "The network is build \n",
    "1. Input layer: Takes a 32x32 Image with an( arbitrary number of channels. In this class the rgb channels have been used.\n",
    "2. Convolution network 1 (C1): The output shape will be 6@28x28\n",
    "3. Convolution network 2 (C2): The output shape will be 6@28x28. *Change to original LeNet*.\n",
    "4. Convolution network 3 (C3): The output shape will be 6@28x28. *Change to original LeNet*.\n",
    "5. Pooling layer 1 (P1): The output shape is reduced to 6@14x14.\n",
    "6. Convolution network 4 (C4): The output shape will be 16@7x7. \n",
    "7. Pooling layer 2 (P2): The output shape is reduced to 16@5x5.\n",
    "8. Flattening from 3D to 1D with 400 Features.\n",
    "9. Dropout layer. *Change from original LeNet*\n",
    "10. Fully connected Layer 1 (FC1). Reduce to 120 Features.\n",
    "10. Fully connected Layer 2 (FC2). Reduce to 84 Features.\n",
    "10. Final output layer 1 (Out). Reduce to final 43 possible traffic sign features.\n",
    "\n",
    "In the description I left out the RelU and Bias layers from the implementation. They can be seen exactly when calling the `LeNet_mod(x)` function (see above).\n",
    "\n",
    "\n"
   ]
  },
  {
   "cell_type": "code",
   "execution_count": null,
   "metadata": {
    "collapsed": false
   },
   "outputs": [],
   "source": [
    "# Finally use the test set to evaluate how good the model was trained.\n",
    "\n",
    "with tf.Session() as sess:\n",
    "    loader = tf.train.import_meta_graph('/home/carnd/lenet.meta')\n",
    "    loader.restore(sess, tf.train.latest_checkpoint('/home/carnd/'))\n",
    "\n",
    "    test_accuracy = evaluate(X_test, y_test)\n",
    "    print(\"Test Accuracy = {:.3f}\".format(test_accuracy))"
   ]
  },
  {
   "cell_type": "markdown",
   "metadata": {},
   "source": [
    "### Question 4\n",
    "\n",
    "_How did you train your model? (Type of optimizer, batch size, epochs, hyperparameters, etc.)_\n"
   ]
  },
  {
   "cell_type": "markdown",
   "metadata": {},
   "source": [
    "**Answer:**"
   ]
  },
  {
   "cell_type": "code",
   "execution_count": 2,
   "metadata": {
    "collapsed": false
   },
   "outputs": [
    {
     "ename": "NameError",
     "evalue": "name 'rate' is not defined",
     "output_type": "error",
     "traceback": [
      "\u001b[0;31m---------------------------------------------------------------------------\u001b[0m",
      "\u001b[0;31mNameError\u001b[0m                                 Traceback (most recent call last)",
      "\u001b[0;32m<ipython-input-2-c9baac88398e>\u001b[0m in \u001b[0;36m<module>\u001b[0;34m()\u001b[0m\n\u001b[0;32m----> 1\u001b[0;31m \u001b[0mprint\u001b[0m\u001b[1;33m(\u001b[0m\u001b[1;34m\"Learning rate: \"\u001b[0m\u001b[1;33m,\u001b[0m \u001b[0mrate\u001b[0m\u001b[1;33m)\u001b[0m\u001b[1;33m\u001b[0m\u001b[0m\n\u001b[0m\u001b[1;32m      2\u001b[0m \u001b[0mprint\u001b[0m\u001b[1;33m(\u001b[0m\u001b[1;34m\"Epochs: \"\u001b[0m\u001b[1;33m,\u001b[0m \u001b[0mEPOCHS\u001b[0m\u001b[1;33m)\u001b[0m\u001b[1;33m\u001b[0m\u001b[0m\n\u001b[1;32m      3\u001b[0m \u001b[0mprint\u001b[0m\u001b[1;33m(\u001b[0m\u001b[1;34m\"Batch size: \"\u001b[0m\u001b[1;33m,\u001b[0m \u001b[0mBATCH_SIZE\u001b[0m\u001b[1;33m)\u001b[0m\u001b[1;33m\u001b[0m\u001b[0m\n",
      "\u001b[0;31mNameError\u001b[0m: name 'rate' is not defined"
     ]
    }
   ],
   "source": [
    "print(\"Learning rate: \", rate)\n",
    "print(\"Epochs: \", EPOCHS)\n",
    "print(\"Batch size: \", BATCH_SIZE)"
   ]
  },
  {
   "cell_type": "markdown",
   "metadata": {},
   "source": [
    "* Hyperparameters\n",
    " * mu = 0\n",
    " * sigma = 0.1\n",
    "* Optimizer: Adam using softmax and one hot encoding"
   ]
  },
  {
   "cell_type": "markdown",
   "metadata": {},
   "source": [
    "### Question 5\n",
    "\n",
    "\n",
    "_What approach did you take in coming up with a solution to this problem? It may have been a process of trial and error, in which case, outline the steps you took to get to the final solution and why you chose those steps. Perhaps your solution involved an already well known implementation or architecture. In this case, discuss why you think this is suitable for the current problem._"
   ]
  },
  {
   "cell_type": "markdown",
   "metadata": {},
   "source": [
    "**Answer:**"
   ]
  },
  {
   "cell_type": "markdown",
   "metadata": {},
   "source": [
    "As it was suggested I started with the LeNet we've learned in the classroom. In additional I've  looked into other networks (especially VGGNet). After trying VGGNet the accurarcy was not as good as the one from LeNet. So I've tried to mix them both by adding more convolutional layers into the LeNet. While in VGGNet more convolutional layers are added in later steps, it seemed better for this implementation to do this at the beginning of the network. \n",
    "\n"
   ]
  },
  {
   "cell_type": "markdown",
   "metadata": {},
   "source": [
    "---\n",
    "\n",
    "## Step 3: Test a Model on New Images\n",
    "\n",
    "Take several pictures of traffic signs that you find on the web or around you (at least five), and run them through your classifier on your computer to produce example results. The classifier might not recognize some local signs but it could prove interesting nonetheless.\n",
    "\n",
    "You may find `signnames.csv` useful as it contains mappings from the class id (integer) to the actual sign name."
   ]
  },
  {
   "cell_type": "markdown",
   "metadata": {},
   "source": [
    "### Implementation\n",
    "\n",
    "Use the code cell (or multiple code cells, if necessary) to implement the first step of your project. Once you have completed your implementation and are satisfied with the results, be sure to thoroughly answer the questions that follow."
   ]
  },
  {
   "cell_type": "code",
   "execution_count": null,
   "metadata": {
    "collapsed": true
   },
   "outputs": [],
   "source": [
    "### Load the images and plot them here.\n",
    "### Feel free to use as many code cells as needed.\n",
    "dirs = os.listdir(get_test_image_path())\n",
    "%matplotlib inline\n",
    "image_batch = []\n",
    "\n",
    "for mfile in dirs:\n",
    "    img = cv2.imread(os.path.join(get_test_image_path,mfile))\n",
    "    img = cv2.cvtColor(img, cv2.COLOR_BGR2RGB)\n",
    "    (width, heigth, channels) = img.shape\n",
    "    z=width\n",
    "    step=(width+heigth)*2\n",
    "    for (xx,yy) in product(range(0,width,step),range(0,heigth,step)):\n",
    "        (rows,cols,ch) = img.shape\n",
    "        rotation = 3\n",
    "        M = cv2.getRotationMatrix2D((cols/2,rows/2),rotation,1)\n",
    "        dst = cv2.warpAffine(img,M,(cols,rows))\n",
    "        #dst = image2(dst)\n",
    "        small_img = resized_image = cv2.resize(dst[xx:xx+z,yy:yy+z], (32, 32)) \n",
    "        image_batch.append(np.copy(small_img))\n",
    "    \n",
    "with tf.Session() as sess:\n",
    "    sess.run(tf.global_variables_initializer())\n",
    "    predictions = sess.run(tf.nn.top_k(tf.nn.softmax(logits), k=5), feed_dict={x: image_batch, keep_prob: 1.0})\n",
    "    #print(predictions)\n",
    "    \n",
    "for myfile, value, predicted, num in zip(dirs,predictions[0], predictions[1],range(len(predictions[0]))):\n",
    "    pass\n",
    "    #arg= np.argmax(predicted)\n",
    "    for i in range(len(value)):\n",
    "        print(value[i], predicted[i], signname[predicted[i]])\n",
    "    #if predicted[arg]>0.1 :\n",
    "    plt.suptitle(myfile, fontsize=14, fontweight='bold')\n",
    "    plt.imshow(image_batch[num])\n",
    "    plt.show()"
   ]
  },
  {
   "cell_type": "markdown",
   "metadata": {},
   "source": [
    "### Question 6\n",
    "\n",
    "_Choose five candidate images of traffic signs and provide them in the report. Are there any particular qualities of the image(s) that might make classification difficult? It could be helpful to plot the images in the notebook._\n",
    "\n"
   ]
  },
  {
   "cell_type": "markdown",
   "metadata": {},
   "source": [
    "**Answer:**"
   ]
  },
  {
   "cell_type": "code",
   "execution_count": null,
   "metadata": {
    "collapsed": false
   },
   "outputs": [],
   "source": [
    "### Run the predictions here.\n",
    "### Feel free to use as many code cells as needed."
   ]
  },
  {
   "cell_type": "code",
   "execution_count": null,
   "metadata": {
    "collapsed": false
   },
   "outputs": [],
   "source": []
  },
  {
   "cell_type": "markdown",
   "metadata": {},
   "source": [
    "### Question 7\n",
    "\n",
    "_Is your model able to perform equally well on captured pictures when compared to testing on the dataset? The simplest way to do this check the accuracy of the predictions. For example, if the model predicted 1 out of 5 signs correctly, it's 20% accurate._\n",
    "\n",
    "_**NOTE:** You could check the accuracy manually by using `signnames.csv` (same directory). This file has a mapping from the class id (0-42) to the corresponding sign name. So, you could take the class id the model outputs, lookup the name in `signnames.csv` and see if it matches the sign from the image._\n"
   ]
  },
  {
   "cell_type": "markdown",
   "metadata": {},
   "source": [
    "**Answer:**"
   ]
  },
  {
   "cell_type": "code",
   "execution_count": null,
   "metadata": {
    "collapsed": true
   },
   "outputs": [],
   "source": [
    "### Visualize the softmax probabilities here.\n",
    "### Feel free to use as many code cells as needed."
   ]
  },
  {
   "cell_type": "markdown",
   "metadata": {},
   "source": [
    "### Question 8\n",
    "\n",
    "*Use the model's softmax probabilities to visualize the **certainty** of its predictions, [`tf.nn.top_k`](https://www.tensorflow.org/versions/r0.12/api_docs/python/nn.html#top_k) could prove helpful here. Which predictions is the model certain of? Uncertain? If the model was incorrect in its initial prediction, does the correct prediction appear in the top k? (k should be 5 at most)*\n",
    "\n",
    "`tf.nn.top_k` will return the values and indices (class ids) of the top k predictions. So if k=3, for each sign, it'll return the 3 largest probabilities (out of a possible 43) and the correspoding class ids.\n",
    "\n",
    "Take this numpy array as an example:\n",
    "\n",
    "```\n",
    "# (5, 6) array\n",
    "a = np.array([[ 0.24879643,  0.07032244,  0.12641572,  0.34763842,  0.07893497,\n",
    "         0.12789202],\n",
    "       [ 0.28086119,  0.27569815,  0.08594638,  0.0178669 ,  0.18063401,\n",
    "         0.15899337],\n",
    "       [ 0.26076848,  0.23664738,  0.08020603,  0.07001922,  0.1134371 ,\n",
    "         0.23892179],\n",
    "       [ 0.11943333,  0.29198961,  0.02605103,  0.26234032,  0.1351348 ,\n",
    "         0.16505091],\n",
    "       [ 0.09561176,  0.34396535,  0.0643941 ,  0.16240774,  0.24206137,\n",
    "         0.09155967]])\n",
    "```\n",
    "\n",
    "Running it through `sess.run(tf.nn.top_k(tf.constant(a), k=3))` produces:\n",
    "\n",
    "```\n",
    "TopKV2(values=array([[ 0.34763842,  0.24879643,  0.12789202],\n",
    "       [ 0.28086119,  0.27569815,  0.18063401],\n",
    "       [ 0.26076848,  0.23892179,  0.23664738],\n",
    "       [ 0.29198961,  0.26234032,  0.16505091],\n",
    "       [ 0.34396535,  0.24206137,  0.16240774]]), indices=array([[3, 0, 5],\n",
    "       [0, 1, 4],\n",
    "       [0, 5, 1],\n",
    "       [1, 3, 5],\n",
    "       [1, 4, 3]], dtype=int32))\n",
    "```\n",
    "\n",
    "Looking just at the first row we get `[ 0.34763842,  0.24879643,  0.12789202]`, you can confirm these are the 3 largest probabilities in `a`. You'll also notice `[3, 0, 5]` are the corresponding indices."
   ]
  },
  {
   "cell_type": "markdown",
   "metadata": {},
   "source": [
    "**Answer:**"
   ]
  },
  {
   "cell_type": "markdown",
   "metadata": {},
   "source": [
    "> **Note**: Once you have completed all of the code implementations and successfully answered each question above, you may finalize your work by exporting the iPython Notebook as an HTML document. You can do this by using the menu above and navigating to  \\n\",\n",
    "    \"**File -> Download as -> HTML (.html)**. Include the finished document along with this notebook as your submission."
   ]
  },
  {
   "cell_type": "code",
   "execution_count": null,
   "metadata": {
    "collapsed": true
   },
   "outputs": [],
   "source": []
  }
 ],
 "metadata": {
  "anaconda-cloud": {},
  "kernelspec": {
   "display_name": "Python [conda env:CarND-LeNet-Lab]",
   "language": "python",
   "name": "conda-env-CarND-LeNet-Lab-py"
  },
  "language_info": {
   "codemirror_mode": {
    "name": "ipython",
    "version": 3
   },
   "file_extension": ".py",
   "mimetype": "text/x-python",
   "name": "python",
   "nbconvert_exporter": "python",
   "pygments_lexer": "ipython3",
   "version": "3.5.2"
  }
 },
 "nbformat": 4,
 "nbformat_minor": 1
}
