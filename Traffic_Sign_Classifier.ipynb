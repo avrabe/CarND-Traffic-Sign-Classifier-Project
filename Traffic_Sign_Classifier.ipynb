{
 "cells": [
  {
   "cell_type": "markdown",
   "metadata": {},
   "source": [
    "# Self-Driving Car Engineer Nanodegree\n",
    "\n",
    "## Deep Learning\n",
    "\n",
    "## Project: Build a Traffic Sign Recognition Classifier\n",
    "\n",
    "In this notebook, a template is provided for you to implement your functionality in stages which is required to successfully complete this project. If additional code is required that cannot be included in the notebook, be sure that the Python code is successfully imported and included in your submission, if necessary. Sections that begin with **'Implementation'** in the header indicate where you should begin your implementation for your project. Note that some sections of implementation are optional, and will be marked with **'Optional'** in the header.\n",
    "\n",
    "In addition to implementing code, there will be questions that you must answer which relate to the project and your implementation. Each section where you will answer a question is preceded by a **'Question'** header. Carefully read each question and provide thorough answers in the following text boxes that begin with **'Answer:'**. Your project submission will be evaluated based on your answers to each of the questions and the implementation you provide.\n",
    "\n",
    ">**Note:** Code and Markdown cells can be executed using the **Shift + Enter** keyboard shortcut. In addition, Markdown cells can be edited by typically double-clicking the cell to enter edit mode."
   ]
  },
  {
   "cell_type": "markdown",
   "metadata": {},
   "source": [
    "---\n",
    "## Step 0: Load The Data"
   ]
  },
  {
   "cell_type": "code",
   "execution_count": 1,
   "metadata": {
    "collapsed": true
   },
   "outputs": [],
   "source": [
    "def get_files():\n",
    "    return (\"/home/carnd/data/train.p\", \n",
    "            \"/home/carnd/data/test.p\")\n",
    "def get_csv_file():\n",
    "    return \"/home/carnd/git/CarND-Traffic-Sign-Classifier-Project/signnames.csv\" \n"
   ]
  },
  {
   "cell_type": "code",
   "execution_count": 2,
   "metadata": {
    "collapsed": false
   },
   "outputs": [],
   "source": [
    "import cv2\n",
    "\n",
    "def rgb2gray(func):\n",
    "    def func_wrapper(*args, **kwargs):\n",
    "        return cv2.cvtColor(func(*args, **kwargs), cv2.COLOR_RGB2GRAY)\n",
    "    return func_wrapper\n",
    "\n",
    "def gray2rgb(func):\n",
    "    def func_wrapper(*args, **kwargs):\n",
    "        return cv2.cvtColor(func(*args, **kwargs), cv2.COLOR_GRAY2RGB)\n",
    "    return func_wrapper\n",
    "\n",
    "def gray2equalizeHist(func):\n",
    "    def func_wrapper(*args, **kwargs):\n",
    "        return cv2.equalizeHist(func(*args, **kwargs))\n",
    "    return func_wrapper\n",
    "        \n",
    "def rgb2hsv(func):\n",
    "    def func_wrapper(*args, **kwargs):\n",
    "        return cv2.cvtColor(func(*args, **kwargs), cv2.COLOR_RGB2HSV)\n",
    "    return func_wrapper\n",
    "\n",
    "def hsv2rgb(func):\n",
    "    def func_wrapper(*args, **kwargs):\n",
    "        return cv2.cvtColor(func(*args, **kwargs), cv2.COLOR_HSV2RGB)\n",
    "    return func_wrapper\n",
    "\n",
    "def hsv2equalizeHist(func):\n",
    "    def func_wrapper(*args, **kwargs):\n",
    "        h,s,v = cv2.split(func(*args, **kwargs))\n",
    "        v = cv2.equalizeHist(v)\n",
    "        return cv2.merge((h,s,v))\n",
    "    return func_wrapper\n",
    "\n",
    "def rgb2normalize(func):\n",
    "    def func_wrapper(*args, **kwargs):\n",
    "        r,g,b = cv2.split(func(*args, **kwargs))\n",
    "        x = r.copy()\n",
    "        r = cv2.normalize(r,x)\n",
    "        g = cv2.normalize(g,x)\n",
    "        b = cv2.normalize(b,x)        \n",
    "        return cv2.merge((r,g,b))\n",
    "    return func_wrapper    \n",
    "def no_image(image):\n",
    "    return image\n",
    "\n",
    "                \n",
    "@rgb2normalize\n",
    "def norm_image(image):\n",
    "    return image\n",
    "\n",
    "@gray2rgb\n",
    "@gray2equalizeHist\n",
    "@rgb2gray\n",
    "def gray_image(image):\n",
    "    return image\n",
    "\n",
    "@hsv2rgb\n",
    "@hsv2equalizeHist\n",
    "@rgb2hsv\n",
    "def image2(image):\n",
    "    return image\n",
    "\n",
    "def convert_images(images):\n",
    "    X = [ no_image(features) for features in images]\n",
    "    Y = X\n",
    "    #Y = np.array(X)[:,:,:,:-2]\n",
    "    return Y\n"
   ]
  },
  {
   "cell_type": "code",
   "execution_count": 3,
   "metadata": {
    "collapsed": false
   },
   "outputs": [
    {
     "name": "stderr",
     "output_type": "stream",
     "text": [
      "/home/carnd/anaconda3/envs/CarND-LeNet-Lab/lib/python3.5/site-packages/sklearn/cross_validation.py:44: DeprecationWarning: This module was deprecated in version 0.18 in favor of the model_selection module into which all the refactored classes and functions are moved. Also note that the interface of the new CV iterators are different from that of this module. This module will be removed in 0.20.\n",
      "  \"This module will be removed in 0.20.\", DeprecationWarning)\n"
     ]
    }
   ],
   "source": [
    "# Load pickled data\n",
    "import pickle\n",
    "import numpy as np \n",
    "from sklearn.cross_validation import train_test_split\n",
    "# TODO: Fill this in based on where you saved the training and testing data\n",
    "\n",
    "training_file, testing_file = get_files()\n",
    "\n",
    "with open(training_file, mode='rb') as f:\n",
    "    train = pickle.load(f)\n",
    "with open(testing_file, mode='rb') as f:\n",
    "    test = pickle.load(f)\n",
    "\n",
    "train['features'] = convert_images(train['features'])\n",
    "test['features'] = convert_images(test['features'])\n",
    "\n",
    "X_train, X_validation, y_train, y_validation = train_test_split(train['features'], train['labels'], test_size=0.20, random_state=42)\n",
    "X_test, y_test = test['features'], test['labels']\n",
    "\n"
   ]
  },
  {
   "cell_type": "markdown",
   "metadata": {},
   "source": [
    "---\n",
    "\n",
    "## Step 1: Dataset Summary & Exploration\n",
    "\n",
    "The pickled data is a dictionary with 4 key/value pairs:\n",
    "\n",
    "- `'features'` is a 4D array containing raw pixel data of the traffic sign images, (num examples, width, height, channels).\n",
    "- `'labels'` is a 2D array containing the label/class id of the traffic sign. The file `signnames.csv` contains id -> name mappings for each id.\n",
    "- `'sizes'` is a list containing tuples, (width, height) representing the the original width and height the image.\n",
    "- `'coords'` is a list containing tuples, (x1, y1, x2, y2) representing coordinates of a bounding box around the sign in the image. **THESE COORDINATES ASSUME THE ORIGINAL IMAGE. THE PICKLED DATA CONTAINS RESIZED VERSIONS (32 by 32) OF THESE IMAGES**\n",
    "\n",
    "Complete the basic data summary below."
   ]
  },
  {
   "cell_type": "code",
   "execution_count": 4,
   "metadata": {
    "collapsed": false
   },
   "outputs": [
    {
     "name": "stdout",
     "output_type": "stream",
     "text": [
      "32\n",
      "32\n",
      "3\n"
     ]
    }
   ],
   "source": [
    "print(len(X_train[0]))\n",
    "print(len(X_train[0][0]))\n",
    "print(len(X_train[0][0][0]))"
   ]
  },
  {
   "cell_type": "code",
   "execution_count": 5,
   "metadata": {
    "collapsed": false
   },
   "outputs": [
    {
     "name": "stdout",
     "output_type": "stream",
     "text": [
      "Number of training examples = 31367\n",
      "Number of testing examples = 12630\n",
      "Image data shape = [32, 32, 3]\n",
      "Number of classes = 43\n"
     ]
    }
   ],
   "source": [
    "### Replace each question mark with the appropriate value.\n",
    "\n",
    "# TODO: Number of training examples\n",
    "n_train = len(X_train)\n",
    "\n",
    "# TODO: Number of testing examples.\n",
    "n_test = len(X_test)\n",
    "\n",
    "# TODO: What's the shape of an traffic sign image?\n",
    "image_shape = [len(X_train[0]),len(X_train[0][0]),len(X_train[0][0][0])]\n",
    "\n",
    "# TODO: How many unique classes/labels there are in the dataset.\n",
    "n_classes = len(set(y_train))\n",
    "\n",
    "print(\"Number of training examples =\", n_train)\n",
    "print(\"Number of testing examples =\", n_test)\n",
    "print(\"Image data shape =\", image_shape)\n",
    "print(\"Number of classes =\", n_classes)"
   ]
  },
  {
   "cell_type": "markdown",
   "metadata": {},
   "source": [
    "Visualize the German Traffic Signs Dataset using the pickled file(s). This is open ended, suggestions include: plotting traffic sign images, plotting the count of each sign, etc.\n",
    "\n",
    "The [Matplotlib](http://matplotlib.org/) [examples](http://matplotlib.org/examples/index.html) and [gallery](http://matplotlib.org/gallery.html) pages are a great resource for doing visualizations in Python.\n",
    "\n",
    "**NOTE:** It's recommended you start with something simple first. If you wish to do more, come back to it after you've completed the rest of the sections."
   ]
  },
  {
   "cell_type": "code",
   "execution_count": 6,
   "metadata": {
    "collapsed": false
   },
   "outputs": [
    {
     "name": "stdout",
     "output_type": "stream",
     "text": [
      "['Speed limit (20km/h)', 'Speed limit (30km/h)', 'Speed limit (50km/h)', 'Speed limit (60km/h)', 'Speed limit (70km/h)', 'Speed limit (80km/h)', 'End of speed limit (80km/h)', 'Speed limit (100km/h)', 'Speed limit (120km/h)', 'No passing', 'No passing for vehicles over 3.5 metric tons', 'Right-of-way at the next intersection', 'Priority road', 'Yield', 'Stop', 'No vehicles', 'Vehicles over 3.5 metric tons prohibited', 'No entry', 'General caution', 'Dangerous curve to the left', 'Dangerous curve to the right', 'Double curve', 'Bumpy road', 'Slippery road', 'Road narrows on the right', 'Road work', 'Traffic signals', 'Pedestrians', 'Children crossing', 'Bicycles crossing', 'Beware of ice/snow', 'Wild animals crossing', 'End of all speed and passing limits', 'Turn right ahead', 'Turn left ahead', 'Ahead only', 'Go straight or right', 'Go straight or left', 'Keep right', 'Keep left', 'Roundabout mandatory', 'End of no passing', 'End of no passing by vehicles over 3.5 metric tons']\n"
     ]
    }
   ],
   "source": [
    "import csv\n",
    "with open(get_csv_file(), 'rt') as csvfile:\n",
    "    spamreader = csv.DictReader(csvfile, delimiter=',', quotechar='|')\n",
    "    signname = [ row['SignName'] for row in spamreader]\n",
    "print(signname)"
   ]
  },
  {
   "cell_type": "code",
   "execution_count": 7,
   "metadata": {
    "collapsed": false
   },
   "outputs": [
    {
     "data": {
      "image/png": "[encoded data removed]",
      "text/plain": [
       "<matplotlib.figure.Figure at 0x7f5558359fd0>"
      ]
     },
     "metadata": {},
     "output_type": "display_data"
    }
   ],
   "source": [
    "### Data exploration visualization goes here.\n",
    "### Feel free to use as many code cells as needed.\n",
    "import matplotlib.pyplot as plt\n",
    "import numpy as np\n",
    "# Visualizations will be shown in the notebook.\n",
    "%matplotlib inline\n",
    "\n",
    "foo = np.unique(y_train,return_counts=True)\n",
    "count = foo[1]\n",
    "plt.pie(count, labels=signname,shadow=False,startangle=90,radius=5.25)\n",
    "plt.axis('equal')\n",
    "\n",
    "#y_pos = np.arange(len(y_train))\n",
    "#performance = 3 + 10 * np.random.rand(len(y_train))\n",
    "#error = np.random.rand(len(y_train))\n",
    "\n",
    "#plt.barh(y_pos, performance, xerr=error, align='center', alpha=0.4)\n",
    "#plt.yticks(y_pos, y_train)\n",
    "#plt.xlabel('Performance')\n",
    "#plt.title('How fast do you want to go today?')\n",
    "\n",
    "plt.show()"
   ]
  },
  {
   "cell_type": "code",
   "execution_count": 8,
   "metadata": {
    "collapsed": false
   },
   "outputs": [],
   "source": [
    "# Plot the first occurence of each sign\n",
    "#for i in range(len(signname)):\n",
    "#    a = np.where(y_train==i)[0][0]\n",
    "#    plt.suptitle(signname[i], fontsize=14, fontweight='bold')\n",
    "#    plt.imshow(cv2.split(X_train[a]))\n",
    "#    plt.show()"
   ]
  },
  {
   "cell_type": "code",
   "execution_count": null,
   "metadata": {
    "collapsed": false
   },
   "outputs": [],
   "source": []
  },
  {
   "cell_type": "code",
   "execution_count": 9,
   "metadata": {
    "collapsed": false
   },
   "outputs": [],
   "source": [
    "import cv2\n",
    "#for i in range(len(signname)):\n",
    "#    a = np.where(y_train==i)[0][0]\n",
    "#    foo =cv2.cvtColor(X_train[a], cv2.COLOR_RGB2HSV)\n",
    "#    h,s,v = cv2.split(foo)\n",
    "#    v = cv2.equalizeHist(v)\n",
    "#    img = cv2.merge((h,s,v))\n",
    "#    img =cv2.cvtColor(img, cv2.COLOR_HSV2RGB)\n",
    "#    plt.suptitle(signname[i], fontsize=14, fontweight='bold')\n",
    "#    plt.imshow(img)#,  cmap=\"Greys_r\")\n",
    "#    plt.show()\n",
    "##for i in range(len(signname)):\n",
    "##    a = np.where(y_train==i)[0][0]\n",
    "##    img = image2(X_train[a])\n",
    "##    #print(img)\n",
    "##    plt.suptitle(signname[i], fontsize=14, fontweight='bold')\n",
    "##    plt.imshow(img)\n",
    "##    plt.show()"
   ]
  },
  {
   "cell_type": "markdown",
   "metadata": {},
   "source": [
    "----\n",
    "\n",
    "## Step 2: Design and Test a Model Architecture\n",
    "\n",
    "Design and implement a deep learning model that learns to recognize traffic signs. Train and test your model on the [German Traffic Sign Dataset](http://benchmark.ini.rub.de/?section=gtsrb&subsection=dataset).\n",
    "\n",
    "There are various aspects to consider when thinking about this problem:\n",
    "\n",
    "- Neural network architecture\n",
    "- Play around preprocessing techniques (normalization, rgb to grayscale, etc)\n",
    "- Number of examples per label (some have more than others).\n",
    "- Generate fake data.\n",
    "\n",
    "Here is an example of a [published baseline model on this problem](http://yann.lecun.com/exdb/publis/pdf/sermanet-ijcnn-11.pdf). It's not required to be familiar with the approach used in the paper but, it's good practice to try to read papers like these.\n",
    "\n",
    "**NOTE:** The LeNet-5 implementation shown in the [classroom](https://classroom.udacity.com/nanodegrees/nd013/parts/fbf77062-5703-404e-b60c-95b78b2f3f9e/modules/6df7ae49-c61c-4bb2-a23e-6527e69209ec/lessons/601ae704-1035-4287-8b11-e2c2716217ad/concepts/d4aca031-508f-4e0b-b493-e7b706120f81) at the end of the CNN lesson is a solid starting point. You'll have to change the number of classes and possibly the preprocessing, but aside from that it's plug and play!"
   ]
  },
  {
   "cell_type": "markdown",
   "metadata": {},
   "source": [
    "### Implementation\n",
    "\n",
    "Use the code cell (or multiple code cells, if necessary) to implement the first step of your project. Once you have completed your implementation and are satisfied with the results, be sure to thoroughly answer the questions that follow."
   ]
  },
  {
   "cell_type": "code",
   "execution_count": 10,
   "metadata": {
    "collapsed": true
   },
   "outputs": [],
   "source": [
    "### Preprocess the data here.\n",
    "### Feel free to use as many code cells as needed."
   ]
  },
  {
   "cell_type": "markdown",
   "metadata": {},
   "source": [
    "### Question 1 \n",
    "\n",
    "_Describe how you preprocessed the data. Why did you choose that technique?_"
   ]
  },
  {
   "cell_type": "markdown",
   "metadata": {},
   "source": [
    "**Answer:**"
   ]
  },
  {
   "cell_type": "code",
   "execution_count": 11,
   "metadata": {
    "collapsed": true
   },
   "outputs": [],
   "source": [
    "### Generate data additional data (OPTIONAL!)\n",
    "### and split the data into training/validation/testing sets here.\n",
    "### Feel free to use as many code cells as needed."
   ]
  },
  {
   "cell_type": "markdown",
   "metadata": {},
   "source": [
    "### Question 2\n",
    "\n",
    "_Describe how you set up the training, validation and testing data for your model. **Optional**: If you generated additional data, how did you generate the data? Why did you generate the data? What are the differences in the new dataset (with generated data) from the original dataset?_"
   ]
  },
  {
   "cell_type": "markdown",
   "metadata": {},
   "source": [
    "**Answer:**"
   ]
  },
  {
   "cell_type": "code",
   "execution_count": 12,
   "metadata": {
    "collapsed": true
   },
   "outputs": [],
   "source": [
    "from sklearn.utils import shuffle\n",
    "\n",
    "X_train, y_train = shuffle(X_train, y_train)"
   ]
  },
  {
   "cell_type": "code",
   "execution_count": 13,
   "metadata": {
    "collapsed": true
   },
   "outputs": [],
   "source": [
    "### Define your architecture here.\n",
    "### Feel free to use as many code cells as needed.\n",
    "import tensorflow as tf\n",
    "\n",
    "EPOCHS = 40\n",
    "BATCH_SIZE = 64"
   ]
  },
  {
   "cell_type": "code",
   "execution_count": 14,
   "metadata": {
    "collapsed": true
   },
   "outputs": [],
   "source": [
    "from tensorflow.contrib.layers import flatten\n",
    "\n",
    "\n",
    "\n",
    "def LeNet(x):    \n",
    "    # Hyperparameters\n",
    "    mu = 0\n",
    "    sigma = 0.1\n",
    "    \n",
    "    weights = {\n",
    "        # 32x32 conv, 3 input, 6 outputs Convolutional. Input = 32x32x1. Output = 28x28x6.\n",
    "        'wc1': tf.Variable(tf.truncated_normal([5, 5, image_shape[2], 6], mean=mu, stddev=sigma)), # Could be also truncated_normal with\n",
    "        'wc1.1': tf.Variable(tf.truncated_normal([1, 1, 6, 6], mean=mu, stddev=sigma)), # Could be also truncated_normal with\n",
    "        'wc1.2': tf.Variable(tf.truncated_normal([1, 1, 6, 6], mean=mu, stddev=sigma)), # Could be also truncated_normal with\n",
    "        # Activation\n",
    "        # Pooling\n",
    "        # 14x14 conv, 6 inputs, 16 outputs.  Output = 10x10x16.\n",
    "        'wc2': tf.Variable(tf.truncated_normal([5, 5, 6, 16], mean=mu, stddev=sigma)),\n",
    "        'wc2.1': tf.Variable(tf.truncated_normal([1, 1, 16, 16], mean=mu, stddev=sigma)),\n",
    "        'wc2.2': tf.Variable(tf.truncated_normal([5, 5, 6, 16], mean=mu, stddev=sigma)),\n",
    "        # activation\n",
    "        # Pooling\n",
    "        # Flatten\n",
    "        # fully connected, 400 inputs, 120 outputs\n",
    "        'wfc1': tf.Variable(tf.truncated_normal([400, 120], mean=mu, stddev=sigma)),\n",
    "        # Activation\n",
    "        'wfc2': tf.Variable(tf.truncated_normal([120, 84], mean=mu, stddev=sigma)),\n",
    "        # Activation\n",
    "        # 84 inputs, 10 outputs (class prediction)\n",
    "        'out': tf.Variable(tf.truncated_normal([84, n_classes], mean=mu, stddev=sigma))\n",
    "    }\n",
    "\n",
    "\n",
    "    biases = {\n",
    "        'bc1': tf.Variable(tf.truncated_normal([6], mean=mu, stddev=sigma)),\n",
    "        'bc1.1': tf.Variable(tf.truncated_normal([6], mean=mu, stddev=sigma)),\n",
    "        'bc1.2': tf.Variable(tf.truncated_normal([6], mean=mu, stddev=sigma)),\n",
    "        'bc2': tf.Variable(tf.truncated_normal([16], mean=mu, stddev=sigma)),\n",
    "        'bc2.1': tf.Variable(tf.truncated_normal([16], mean=mu, stddev=sigma)),\n",
    "        'bc2.2': tf.Variable(tf.truncated_normal([16], mean=mu, stddev=sigma)),\n",
    "        'bfc1': tf.Variable(tf.truncated_normal([120], mean=mu, stddev=sigma)),\n",
    "        'bfc2': tf.Variable(tf.truncated_normal([84], mean=mu, stddev=sigma)),\n",
    "        'out': tf.Variable(tf.truncated_normal([n_classes], mean=mu, stddev=sigma))\n",
    "    }    \n",
    "    c = x\n",
    "    # TODO: Layer 1: Convolutional. Input = 32x32x1. Output = 28x28x6.\n",
    "    c = tf.nn.conv2d(c, weights['wc1'], strides=[1, 1, 1, 1], padding='VALID')\n",
    "    c = tf.nn.bias_add(c, biases['bc1'])\n",
    "    print (c)\n",
    "    # TODO: Activation.\n",
    "    c = tf.nn.relu(c)\n",
    "    print (c)\n",
    "    c = tf.nn.conv2d(c, weights['wc1.1'], strides=[1, 1, 1, 1], padding='VALID')\n",
    "    c = tf.nn.bias_add(c, biases['bc1.1'])\n",
    "    print (c)\n",
    "    # TODO: Activation.\n",
    "    c = tf.nn.relu(c)\n",
    "    print (c)\n",
    "    c = tf.nn.conv2d(c, weights['wc1.2'], strides=[1, 1, 1, 1], padding='VALID')\n",
    "    c = tf.nn.bias_add(c, biases['bc1.2'])\n",
    "    print (c)\n",
    "    # TODO: Activation.\n",
    "    c = tf.nn.relu(c)\n",
    "    print (c)    \n",
    "    # TODO: Pooling. Input = 28x28x6. Output = 14x14x6.\n",
    "    ksize = [1, 2, 2 , 1]\n",
    "    strides = [1, 2, 2, 1]\n",
    "    padding = 'VALID'\n",
    "    c = tf.nn.max_pool(c, ksize, strides, padding)\n",
    "    print (c)\n",
    "\n",
    "    # TODO: Layer 2: Convolutional. Output = 10x10x16.\n",
    "    c = tf.nn.conv2d(c, weights['wc2'], strides=[1, 1, 1, 1], padding='VALID')\n",
    "    c = tf.nn.bias_add(c, biases['bc2'])    \n",
    "    # TODO: Activation.\n",
    "    print (c)\n",
    "    c = tf.nn.relu(c)\n",
    "    print (c)\n",
    " \n",
    "    # TODO: Pooling. Input = 10x10x16. Output = 5x5x16.\n",
    "    ksize = [1, 2, 2 , 1]\n",
    "    strides = [1, 2, 2, 1]\n",
    "    padding = 'VALID'\n",
    "    c = tf.nn.max_pool(c, ksize, strides, padding)\n",
    "    print (c)\n",
    "\n",
    "    \n",
    "    # TODO: Flatten. Input = 5x5x16. Output = 400.\n",
    "    c = flatten(c)\n",
    "    #flattened = tf.reshape(pool2, [-1, weights['wfc1'].get_shape().as_list()[0]])\n",
    "    print (c)\n",
    "\n",
    "    # Add dropout layer\n",
    "    c = tf.nn.dropout(c, keep_prob)\n",
    "    print (c)\n",
    "    \n",
    "    # TODO: Layer 3: Fully Connected. Input = 400. Output = 120.\n",
    "    c = tf.add(tf.matmul(c, weights['wfc1']), biases['bfc1'])\n",
    "    print (c)\n",
    "    # TODO: Activation.\n",
    "    c = tf.nn.relu(c)   \n",
    "    print (c)\n",
    "    \n",
    "    # TODO: Layer 4: Fully Connected. Input = 120. Output = 84.\n",
    "    c = tf.add(tf.matmul(c, weights['wfc2']), biases['bfc2'])\n",
    "    print (c)\n",
    "    # TODO: Activation.\n",
    "    c = tf.nn.relu(c)     \n",
    "\n",
    "    # TODO: Layer 5: Fully Connected. Input = 84. Output = n_classes.\n",
    "    logits = tf.add(tf.matmul(c, weights['out']), biases['out'])\n",
    "    return logits"
   ]
  },
  {
   "cell_type": "code",
   "execution_count": 15,
   "metadata": {
    "collapsed": false
   },
   "outputs": [],
   "source": [
    "def VGGNet(x):    \n",
    "    # Hyperparameters\n",
    "    mu = 0\n",
    "    sigma = 0.1\n",
    "    \n",
    "    weights = {\n",
    "        # 32x32 conv, 3 input, 6 outputs Convolutional. Input = 32x32x1. Output = 28x28x6.\n",
    "        'wc1.0': tf.Variable(tf.truncated_normal([1, 1, image_shape[2], 64], mean=mu, stddev=sigma)), # Could be also truncated_normal with\n",
    "        'wc1.1': tf.Variable(tf.truncated_normal([1, 1, 64, 64], mean=mu, stddev=sigma)), # Could be also truncated_normal with\n",
    "        # Activation\n",
    "        # Pooling\n",
    "        # 16x16 conv, 64 inputs, 128 outputs.  Output = 16x16x128.\n",
    "        'wc2.0': tf.Variable(tf.truncated_normal([1, 1, 64, 128], mean=mu, stddev=sigma)),\n",
    "        'wc2.1': tf.Variable(tf.truncated_normal([1, 1, 128, 128], mean=mu, stddev=sigma)),\n",
    "        'wc3.0': tf.Variable(tf.truncated_normal([1, 1, 128, 256], mean=mu, stddev=sigma)),\n",
    "        'wc3.1': tf.Variable(tf.truncated_normal([1, 1, 256, 256], mean=mu, stddev=sigma)),\n",
    "        'wc3.2': tf.Variable(tf.truncated_normal([1, 1, 256, 256], mean=mu, stddev=sigma)),\n",
    "        # activation\n",
    "        # Pooling\n",
    "        # Flatten\n",
    "        # fully connected, 400 inputs, 120 outputs\n",
    "        'wfc1': tf.Variable(tf.truncated_normal([16384, 4096], mean=mu, stddev=sigma)),\n",
    "        # Activation\n",
    "        'wfc2': tf.Variable(tf.truncated_normal([4096, 1000], mean=mu, stddev=sigma)),\n",
    "        # Activation\n",
    "        # 84 inputs, 10 outputs (class prediction)\n",
    "        'out': tf.Variable(tf.truncated_normal([1000, n_classes], mean=mu, stddev=sigma))\n",
    "    }\n",
    "\n",
    "\n",
    "    biases = {\n",
    "        'bc1.0': tf.Variable(tf.truncated_normal([64], mean=mu, stddev=sigma)),\n",
    "        'bc1.1': tf.Variable(tf.truncated_normal([64], mean=mu, stddev=sigma)),\n",
    "        'bc2.0': tf.Variable(tf.truncated_normal([128], mean=mu, stddev=sigma)),\n",
    "        'bc2.1': tf.Variable(tf.truncated_normal([128], mean=mu, stddev=sigma)),\n",
    "        'bc3.0': tf.Variable(tf.truncated_normal([256], mean=mu, stddev=sigma)),\n",
    "        'bc3.1': tf.Variable(tf.truncated_normal([256], mean=mu, stddev=sigma)),\n",
    "        'bc3.2': tf.Variable(tf.truncated_normal([256], mean=mu, stddev=sigma)),\n",
    "        'bfc1': tf.Variable(tf.truncated_normal([4096], mean=mu, stddev=sigma)),\n",
    "        'bfc2': tf.Variable(tf.truncated_normal([1000], mean=mu, stddev=sigma)),\n",
    "        'out': tf.Variable(tf.truncated_normal([n_classes], mean=mu, stddev=sigma))\n",
    "    }    \n",
    "\n",
    "    \n",
    "    # TODO: Layer 1: Convolutional. Input = 32x32x1. Output = 32x32x64.\n",
    "    c = x\n",
    "    for i in ['1.0']:\n",
    "        c = tf.nn.conv2d(c, weights['wc'+i], strides=[1, 1, 1, 1], padding='VALID')\n",
    "        c = tf.nn.bias_add(c, biases['bc'+i])\n",
    "        # TODO: Activation.\n",
    "        c = tf.nn.relu(c)\n",
    "        print (c)\n",
    "    \n",
    "    # TODO: Pooling. Input = 32x32x64. Output = 32x32x64.\n",
    "    ksize = [1, 2, 2 , 1]\n",
    "    strides = [1, 2, 2, 1]\n",
    "    padding = 'VALID'\n",
    "    c = tf.nn.max_pool(c, ksize, strides, padding)\n",
    "    print (c)\n",
    "\n",
    "    # TODO: Layer 2: Convolutional. Input = 32x32x1. Output = 32x32x64.\n",
    "    for i in ['2.0', '2.1']:\n",
    "        c = tf.nn.conv2d(c, weights['wc'+i], strides=[1, 1, 1, 1], padding='VALID')\n",
    "        c = tf.nn.bias_add(c, biases['bc'+i])\n",
    "        # TODO: Activation.\n",
    "        c = tf.nn.relu(c)\n",
    "        print (c)\n",
    "        \n",
    "    # TODO: Pooling. Input = 16x16x128. Output = 8x8x128.\n",
    "    ksize = [1, 2, 2 , 1]\n",
    "    strides = [1, 2, 2, 1]\n",
    "    padding = 'VALID'\n",
    "    c = tf.nn.max_pool(c, ksize, strides, padding)\n",
    "    print (c)\n",
    "\n",
    "    # TODO: Flatten. Input = 5x5x16. Output = 400.\n",
    "    c = flatten(c)\n",
    "    #flattened = tf.reshape(pool2, [-1, weights['wfc1'].get_shape().as_list()[0]])\n",
    "\n",
    "    # TODO: Layer 3: Fully Connected. Input = 400. Output = 120.\n",
    "    c = tf.add(tf.matmul(c, weights['wfc1']), biases['bfc1'])\n",
    "    # TODO: Activation.\n",
    "    c = tf.nn.relu(c)   \n",
    "\n",
    "        # TODO: Layer 3: Fully Connected. Input = 400. Output = 120.\n",
    "    c = tf.add(tf.matmul(c, weights['wfc1']), biases['bfc1'])\n",
    "    # TODO: Activation.\n",
    "    c = tf.nn.relu(c)   \n",
    "\n",
    "    # Add dropout layer\n",
    "    c = tf.nn.dropout(c, keep_prob)\n",
    "    \n",
    "    # TODO: Layer 4: Fully Connected. Input = 120. Output = 84.\n",
    "    c = tf.add(tf.matmul(c, weights['wfc2']), biases['bfc2'])\n",
    "    # TODO: Activation.\n",
    "    c = tf.nn.relu(c)     \n",
    "\n",
    "\n",
    "    # TODO: Layer 5: Fully Connected. Input = 84. Output = n_classes.\n",
    "    c = tf.add(tf.matmul(c, weights['out']), biases['out'])\n",
    "    \n",
    "    logits = c\n",
    "    return logits"
   ]
  },
  {
   "cell_type": "code",
   "execution_count": 16,
   "metadata": {
    "collapsed": true
   },
   "outputs": [],
   "source": [
    "x = tf.placeholder(tf.float32, (None, image_shape[0], image_shape[1], image_shape[2]))\n",
    "y = tf.placeholder(tf.int32, (None))\n",
    "# on dropout\n",
    "keep_prob = tf.placeholder(tf.float32)\n",
    "one_hot_y = tf.one_hot(y, n_classes)"
   ]
  },
  {
   "cell_type": "code",
   "execution_count": 17,
   "metadata": {
    "collapsed": false
   },
   "outputs": [
    {
     "name": "stdout",
     "output_type": "stream",
     "text": [
      "Tensor(\"BiasAdd:0\", shape=(?, 28, 28, 6), dtype=float32)\n",
      "Tensor(\"Relu:0\", shape=(?, 28, 28, 6), dtype=float32)\n",
      "Tensor(\"BiasAdd_1:0\", shape=(?, 28, 28, 6), dtype=float32)\n",
      "Tensor(\"Relu_1:0\", shape=(?, 28, 28, 6), dtype=float32)\n",
      "Tensor(\"BiasAdd_2:0\", shape=(?, 28, 28, 6), dtype=float32)\n",
      "Tensor(\"Relu_2:0\", shape=(?, 28, 28, 6), dtype=float32)\n",
      "Tensor(\"MaxPool:0\", shape=(?, 14, 14, 6), dtype=float32)\n",
      "Tensor(\"BiasAdd_3:0\", shape=(?, 10, 10, 16), dtype=float32)\n",
      "Tensor(\"Relu_3:0\", shape=(?, 10, 10, 16), dtype=float32)\n",
      "Tensor(\"MaxPool_1:0\", shape=(?, 5, 5, 16), dtype=float32)\n",
      "Tensor(\"Flatten/Reshape:0\", shape=(?, 400), dtype=float32)\n",
      "Tensor(\"dropout/mul:0\", shape=(?, 400), dtype=float32)\n",
      "Tensor(\"Add:0\", shape=(?, 120), dtype=float32)\n",
      "Tensor(\"Relu_4:0\", shape=(?, 120), dtype=float32)\n",
      "Tensor(\"Add_1:0\", shape=(?, 84), dtype=float32)\n"
     ]
    }
   ],
   "source": [
    "rate = 0.0005\n",
    "\n",
    "logits = LeNet(x)\n",
    "#logits = VGGNet(x)\n",
    "cross_entropy = tf.nn.softmax_cross_entropy_with_logits(logits, one_hot_y)\n",
    "loss_operation = tf.reduce_mean(cross_entropy)\n",
    "optimizer = tf.train.AdamOptimizer(learning_rate = rate)\n",
    "training_operation = optimizer.minimize(loss_operation)"
   ]
  },
  {
   "cell_type": "code",
   "execution_count": 18,
   "metadata": {
    "collapsed": false
   },
   "outputs": [],
   "source": [
    "correct_prediction = tf.equal(tf.argmax(logits, 1), tf.argmax(one_hot_y, 1))\n",
    "accuracy_operation = tf.reduce_mean(tf.cast(correct_prediction, tf.float32))\n",
    "\n",
    "def evaluate(X_data, y_data):\n",
    "    num_examples = len(X_data)\n",
    "    total_accuracy = 0\n",
    "    sess = tf.get_default_session()\n",
    "    for offset in range(0, num_examples, BATCH_SIZE):\n",
    "        batch_x, batch_y = X_data[offset:offset+BATCH_SIZE], y_data[offset:offset+BATCH_SIZE]\n",
    "        accuracy = sess.run(accuracy_operation, feed_dict={x: batch_x, y: batch_y, keep_prob: 1.0})\n",
    "        total_accuracy += (accuracy * len(batch_x))\n",
    "    return total_accuracy / num_examples"
   ]
  },
  {
   "cell_type": "code",
   "execution_count": 19,
   "metadata": {
    "collapsed": false
   },
   "outputs": [
    {
     "name": "stdout",
     "output_type": "stream",
     "text": [
      "Training...\n",
      "\n",
      "EPOCH 1 ...\n",
      "Validation Accuracy = 0.767\n",
      "\n",
      "EPOCH 2 ...\n",
      "Validation Accuracy = 0.895\n",
      "\n",
      "EPOCH 3 ...\n",
      "Validation Accuracy = 0.929\n",
      "\n",
      "EPOCH 4 ...\n",
      "Validation Accuracy = 0.930\n",
      "\n",
      "EPOCH 5 ...\n",
      "Validation Accuracy = 0.944\n",
      "\n",
      "EPOCH 6 ...\n",
      "Validation Accuracy = 0.960\n",
      "\n",
      "EPOCH 7 ...\n",
      "Validation Accuracy = 0.966\n",
      "\n",
      "EPOCH 8 ...\n",
      "Validation Accuracy = 0.971\n",
      "\n",
      "EPOCH 9 ...\n",
      "Validation Accuracy = 0.973\n",
      "\n",
      "EPOCH 10 ...\n",
      "Validation Accuracy = 0.971\n",
      "\n",
      "EPOCH 11 ...\n",
      "Validation Accuracy = 0.973\n",
      "\n",
      "EPOCH 12 ...\n",
      "Validation Accuracy = 0.979\n",
      "\n",
      "EPOCH 13 ...\n",
      "Validation Accuracy = 0.977\n",
      "\n",
      "EPOCH 14 ...\n",
      "Validation Accuracy = 0.978\n",
      "\n",
      "EPOCH 15 ...\n",
      "Validation Accuracy = 0.983\n",
      "\n",
      "EPOCH 16 ...\n",
      "Validation Accuracy = 0.984\n",
      "\n",
      "EPOCH 17 ...\n",
      "Validation Accuracy = 0.983\n",
      "\n",
      "EPOCH 18 ...\n",
      "Validation Accuracy = 0.982\n",
      "\n",
      "EPOCH 19 ...\n",
      "Validation Accuracy = 0.979\n",
      "\n",
      "EPOCH 20 ...\n",
      "Validation Accuracy = 0.985\n",
      "\n",
      "EPOCH 21 ...\n",
      "Validation Accuracy = 0.985\n",
      "\n",
      "EPOCH 22 ...\n",
      "Validation Accuracy = 0.985\n",
      "\n",
      "EPOCH 23 ...\n",
      "Validation Accuracy = 0.984\n",
      "\n",
      "EPOCH 24 ...\n",
      "Validation Accuracy = 0.987\n",
      "\n",
      "EPOCH 25 ...\n",
      "Validation Accuracy = 0.989\n",
      "\n",
      "EPOCH 26 ...\n",
      "Validation Accuracy = 0.985\n",
      "\n",
      "EPOCH 27 ...\n",
      "Validation Accuracy = 0.988\n",
      "\n",
      "EPOCH 28 ...\n",
      "Validation Accuracy = 0.986\n",
      "\n",
      "EPOCH 29 ...\n",
      "Validation Accuracy = 0.990\n",
      "\n",
      "EPOCH 30 ...\n",
      "Validation Accuracy = 0.982\n",
      "\n",
      "EPOCH 31 ...\n",
      "Validation Accuracy = 0.989\n",
      "\n",
      "EPOCH 32 ...\n",
      "Validation Accuracy = 0.987\n",
      "\n",
      "EPOCH 33 ...\n",
      "Validation Accuracy = 0.990\n",
      "\n",
      "EPOCH 34 ...\n",
      "Validation Accuracy = 0.990\n",
      "\n",
      "EPOCH 35 ...\n",
      "Validation Accuracy = 0.989\n",
      "\n",
      "EPOCH 36 ...\n",
      "Validation Accuracy = 0.989\n",
      "\n",
      "EPOCH 37 ...\n",
      "Validation Accuracy = 0.992\n",
      "\n",
      "EPOCH 38 ...\n",
      "Validation Accuracy = 0.990\n",
      "\n",
      "EPOCH 39 ...\n",
      "Validation Accuracy = 0.992\n",
      "\n",
      "EPOCH 40 ...\n",
      "Validation Accuracy = 0.990\n",
      "\n",
      "Model saved\n"
     ]
    }
   ],
   "source": [
    "with tf.Session() as sess:\n",
    "    sess.run(tf.global_variables_initializer())\n",
    "    num_examples = len(X_train)\n",
    "    \n",
    "    print(\"Training...\")\n",
    "    print()\n",
    "    for i in range(EPOCHS):\n",
    "        X_train, y_train = shuffle(X_train, y_train)\n",
    "        for offset in range(0, num_examples, BATCH_SIZE):\n",
    "            end = offset + BATCH_SIZE\n",
    "            batch_x, batch_y = X_train[offset:end], y_train[offset:end]\n",
    "            sess.run(training_operation, feed_dict={x: batch_x, y: batch_y, keep_prob: 0.5})\n",
    "            \n",
    "        validation_accuracy = evaluate(X_validation, y_validation)\n",
    "        print(\"EPOCH {} ...\".format(i+1))\n",
    "        print(\"Validation Accuracy = {:.3f}\".format(validation_accuracy))\n",
    "        print()\n",
    "        \n",
    "    try:\n",
    "        saver\n",
    "    except NameError:\n",
    "        saver = tf.train.Saver()\n",
    "    saver.save(sess,'/home/carnd/lenet')\n",
    "    print(\"Model saved\")"
   ]
  },
  {
   "cell_type": "markdown",
   "metadata": {},
   "source": [
    "### Question 3\n",
    "\n",
    "_What does your final architecture look like? (Type of model, layers, sizes, connectivity, etc.)  For reference on how to build a deep neural network using TensorFlow, see [Deep Neural Network in TensorFlow\n",
    "](https://classroom.udacity.com/nanodegrees/nd013/parts/fbf77062-5703-404e-b60c-95b78b2f3f9e/modules/6df7ae49-c61c-4bb2-a23e-6527e69209ec/lessons/b516a270-8600-4f93-a0a3-20dfeabe5da6/concepts/83a3a2a2-a9bd-4b7b-95b0-eb924ab14432) from the classroom._\n"
   ]
  },
  {
   "cell_type": "markdown",
   "metadata": {},
   "source": [
    "**Answer:**"
   ]
  },
  {
   "cell_type": "code",
   "execution_count": 20,
   "metadata": {
    "collapsed": false
   },
   "outputs": [
    {
     "name": "stdout",
     "output_type": "stream",
     "text": [
      "Test Accuracy = 0.951\n"
     ]
    }
   ],
   "source": [
    "### Train your model here.\n",
    "### Feel free to use as many code cells as needed.\n",
    "with tf.Session() as sess:\n",
    "    loader = tf.train.import_meta_graph('/home/carnd/lenet.meta')\n",
    "    loader.restore(sess, tf.train.latest_checkpoint('/home/carnd/'))\n",
    "\n",
    "    test_accuracy = evaluate(X_test, y_test)\n",
    "    print(\"Test Accuracy = {:.3f}\".format(test_accuracy))"
   ]
  },
  {
   "cell_type": "markdown",
   "metadata": {},
   "source": [
    "### Question 4\n",
    "\n",
    "_How did you train your model? (Type of optimizer, batch size, epochs, hyperparameters, etc.)_\n"
   ]
  },
  {
   "cell_type": "markdown",
   "metadata": {},
   "source": [
    "**Answer:**"
   ]
  },
  {
   "cell_type": "markdown",
   "metadata": {},
   "source": [
    "### Question 5\n",
    "\n",
    "\n",
    "_What approach did you take in coming up with a solution to this problem? It may have been a process of trial and error, in which case, outline the steps you took to get to the final solution and why you chose those steps. Perhaps your solution involved an already well known implementation or architecture. In this case, discuss why you think this is suitable for the current problem._"
   ]
  },
  {
   "cell_type": "markdown",
   "metadata": {},
   "source": [
    "**Answer:**"
   ]
  },
  {
   "cell_type": "markdown",
   "metadata": {},
   "source": [
    "---\n",
    "\n",
    "## Step 3: Test a Model on New Images\n",
    "\n",
    "Take several pictures of traffic signs that you find on the web or around you (at least five), and run them through your classifier on your computer to produce example results. The classifier might not recognize some local signs but it could prove interesting nonetheless.\n",
    "\n",
    "You may find `signnames.csv` useful as it contains mappings from the class id (integer) to the actual sign name."
   ]
  },
  {
   "cell_type": "markdown",
   "metadata": {},
   "source": [
    "### Implementation\n",
    "\n",
    "Use the code cell (or multiple code cells, if necessary) to implement the first step of your project. Once you have completed your implementation and are satisfied with the results, be sure to thoroughly answer the questions that follow."
   ]
  },
  {
   "cell_type": "code",
   "execution_count": 21,
   "metadata": {
    "collapsed": true
   },
   "outputs": [],
   "source": [
    "### Load the images and plot them here.\n",
    "### Feel free to use as many code cells as needed."
   ]
  },
  {
   "cell_type": "markdown",
   "metadata": {},
   "source": [
    "### Question 6\n",
    "\n",
    "_Choose five candidate images of traffic signs and provide them in the report. Are there any particular qualities of the image(s) that might make classification difficult? It could be helpful to plot the images in the notebook._\n",
    "\n"
   ]
  },
  {
   "cell_type": "markdown",
   "metadata": {},
   "source": [
    "**Answer:**"
   ]
  },
  {
   "cell_type": "code",
   "execution_count": 1,
   "metadata": {
    "collapsed": false
   },
   "outputs": [
    {
     "ename": "ImportError",
     "evalue": "No module named 'cv2'",
     "output_type": "error",
     "traceback": [
      "\u001b[0;31m---------------------------------------------------------------------------\u001b[0m",
      "\u001b[0;31mImportError\u001b[0m                               Traceback (most recent call last)",
      "\u001b[0;32m<ipython-input-1-5e7d6615197c>\u001b[0m in \u001b[0;36m<module>\u001b[0;34m()\u001b[0m\n\u001b[1;32m      1\u001b[0m \u001b[1;31m### Run the predictions here.\u001b[0m\u001b[1;33m\u001b[0m\u001b[1;33m\u001b[0m\u001b[0m\n\u001b[1;32m      2\u001b[0m \u001b[1;31m### Feel free to use as many code cells as needed.\u001b[0m\u001b[1;33m\u001b[0m\u001b[1;33m\u001b[0m\u001b[0m\n\u001b[0;32m----> 3\u001b[0;31m \u001b[1;32mimport\u001b[0m \u001b[0mcv2\u001b[0m\u001b[1;33m\u001b[0m\u001b[0m\n\u001b[0m\u001b[1;32m      4\u001b[0m \u001b[1;32mimport\u001b[0m \u001b[0mnumpy\u001b[0m \u001b[1;32mas\u001b[0m \u001b[0mnp\u001b[0m\u001b[1;33m\u001b[0m\u001b[0m\n\u001b[1;32m      5\u001b[0m \u001b[1;32mimport\u001b[0m \u001b[0mmatplotlib\u001b[0m\u001b[1;33m.\u001b[0m\u001b[0mpyplot\u001b[0m \u001b[1;32mas\u001b[0m \u001b[0mplt\u001b[0m\u001b[1;33m\u001b[0m\u001b[0m\n",
      "\u001b[0;31mImportError\u001b[0m: No module named 'cv2'"
     ]
    }
   ],
   "source": [
    "### Run the predictions here.\n",
    "### Feel free to use as many code cells as needed.\n",
    "import cv2\n",
    "import numpy as np\n",
    "import matplotlib.pyplot as plt\n",
    "from itertools import product"
   ]
  },
  {
   "cell_type": "code",
   "execution_count": null,
   "metadata": {
    "collapsed": true
   },
   "outputs": [],
   "source": [
    "img = cv2.imread(\"C:\\\\Users\\\\Ralf\\\\git\\\\CarND-Traffic-Sign-Classifier-Project\\\\test_images\\\\vlcsnap-2016-12-24-18h06m48s010.png\")\n",
    "img = cv2.cvtColor(img, cv2.COLOR_BGR2RGB)\n",
    "(width, heigth, channels) = img.shape\n",
    "z=128\n",
    "step=64\n",
    "%matplotlib inline\n",
    "for (x,y) in product(range(0,width,step),range(0,heigth,step)):\n",
    "    print(x,y)\n",
    "    small_img = resized_image = cv2.resize(img[x:x+z,y:y+z], (32, 32)) \n",
    "    plt.imshow(small_img)\n",
    "    plt.show()"
   ]
  },
  {
   "cell_type": "markdown",
   "metadata": {},
   "source": [
    "### Question 7\n",
    "\n",
    "_Is your model able to perform equally well on captured pictures when compared to testing on the dataset? The simplest way to do this check the accuracy of the predictions. For example, if the model predicted 1 out of 5 signs correctly, it's 20% accurate._\n",
    "\n",
    "_**NOTE:** You could check the accuracy manually by using `signnames.csv` (same directory). This file has a mapping from the class id (0-42) to the corresponding sign name. So, you could take the class id the model outputs, lookup the name in `signnames.csv` and see if it matches the sign from the image._\n"
   ]
  },
  {
   "cell_type": "markdown",
   "metadata": {},
   "source": [
    "**Answer:**"
   ]
  },
  {
   "cell_type": "code",
   "execution_count": 23,
   "metadata": {
    "collapsed": true
   },
   "outputs": [],
   "source": [
    "### Visualize the softmax probabilities here.\n",
    "### Feel free to use as many code cells as needed."
   ]
  },
  {
   "cell_type": "markdown",
   "metadata": {},
   "source": [
    "### Question 8\n",
    "\n",
    "*Use the model's softmax probabilities to visualize the **certainty** of its predictions, [`tf.nn.top_k`](https://www.tensorflow.org/versions/r0.12/api_docs/python/nn.html#top_k) could prove helpful here. Which predictions is the model certain of? Uncertain? If the model was incorrect in its initial prediction, does the correct prediction appear in the top k? (k should be 5 at most)*\n",
    "\n",
    "`tf.nn.top_k` will return the values and indices (class ids) of the top k predictions. So if k=3, for each sign, it'll return the 3 largest probabilities (out of a possible 43) and the correspoding class ids.\n",
    "\n",
    "Take this numpy array as an example:\n",
    "\n",
    "```\n",
    "# (5, 6) array\n",
    "a = np.array([[ 0.24879643,  0.07032244,  0.12641572,  0.34763842,  0.07893497,\n",
    "         0.12789202],\n",
    "       [ 0.28086119,  0.27569815,  0.08594638,  0.0178669 ,  0.18063401,\n",
    "         0.15899337],\n",
    "       [ 0.26076848,  0.23664738,  0.08020603,  0.07001922,  0.1134371 ,\n",
    "         0.23892179],\n",
    "       [ 0.11943333,  0.29198961,  0.02605103,  0.26234032,  0.1351348 ,\n",
    "         0.16505091],\n",
    "       [ 0.09561176,  0.34396535,  0.0643941 ,  0.16240774,  0.24206137,\n",
    "         0.09155967]])\n",
    "```\n",
    "\n",
    "Running it through `sess.run(tf.nn.top_k(tf.constant(a), k=3))` produces:\n",
    "\n",
    "```\n",
    "TopKV2(values=array([[ 0.34763842,  0.24879643,  0.12789202],\n",
    "       [ 0.28086119,  0.27569815,  0.18063401],\n",
    "       [ 0.26076848,  0.23892179,  0.23664738],\n",
    "       [ 0.29198961,  0.26234032,  0.16505091],\n",
    "       [ 0.34396535,  0.24206137,  0.16240774]]), indices=array([[3, 0, 5],\n",
    "       [0, 1, 4],\n",
    "       [0, 5, 1],\n",
    "       [1, 3, 5],\n",
    "       [1, 4, 3]], dtype=int32))\n",
    "```\n",
    "\n",
    "Looking just at the first row we get `[ 0.34763842,  0.24879643,  0.12789202]`, you can confirm these are the 3 largest probabilities in `a`. You'll also notice `[3, 0, 5]` are the corresponding indices."
   ]
  },
  {
   "cell_type": "markdown",
   "metadata": {},
   "source": [
    "**Answer:**"
   ]
  },
  {
   "cell_type": "markdown",
   "metadata": {},
   "source": [
    "> **Note**: Once you have completed all of the code implementations and successfully answered each question above, you may finalize your work by exporting the iPython Notebook as an HTML document. You can do this by using the menu above and navigating to  \\n\",\n",
    "    \"**File -> Download as -> HTML (.html)**. Include the finished document along with this notebook as your submission."
   ]
  },
  {
   "cell_type": "code",
   "execution_count": null,
   "metadata": {
    "collapsed": true
   },
   "outputs": [],
   "source": []
  }
 ],
 "metadata": {
  "anaconda-cloud": {},
  "kernelspec": {
   "display_name": "Python [conda env:CarND-LeNet-Lab]",
   "language": "python",
   "name": "conda-env-CarND-LeNet-Lab-py"
  },
  "language_info": {
   "codemirror_mode": {
    "name": "ipython",
    "version": 3
   },
   "file_extension": ".py",
   "mimetype": "text/x-python",
   "name": "python",
   "nbconvert_exporter": "python",
   "pygments_lexer": "ipython3",
   "version": "3.5.2"
  }
 },
 "nbformat": 4,
 "nbformat_minor": 1
}
